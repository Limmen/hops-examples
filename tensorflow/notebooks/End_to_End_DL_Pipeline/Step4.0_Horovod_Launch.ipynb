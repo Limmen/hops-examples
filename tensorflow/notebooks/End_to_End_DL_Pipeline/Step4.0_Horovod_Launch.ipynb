{
 "cells": [
  {
   "cell_type": "markdown",
   "metadata": {},
   "source": [
    "# Notebook for Launching Hops All-Reduce. Notebook (4/6) in the End-to-End Scalable Deep Learning Pipeline on Hops. \n",
    "\n",
    "Hopworks provides Horovod-as-a-service which allows you to train deep neural networks using the all-reduce arhictecture with several GPUs.\n",
    "\n",
    "To launch horovod-as-a-service on Hops, you specify two notebooks, one with the actual model and horovod code, and another notebook for launching the training process.\n",
    "\n",
    "This notebook will be used to launch the notebook: [Step4_Ring_AllReduce_GPU_Training.ipynb](./Step4_Ring_AllReduce_GPU_Training.ipynb)"
   ]
  },
  {
   "cell_type": "markdown",
   "metadata": {},
   "source": [
    "## Package Imports\n",
    "\n",
    "Tested with versions:\n",
    "\n",
    "- hops: 2.6.4"
   ]
  },
  {
   "cell_type": "code",
   "execution_count": 5,
   "metadata": {},
   "outputs": [],
   "source": [
    "from hops import hdfs\n",
    "from hops import experiment"
   ]
  },
  {
   "cell_type": "markdown",
   "metadata": {},
   "source": [
    "## Constants"
   ]
  },
  {
   "cell_type": "code",
   "execution_count": 6,
   "metadata": {},
   "outputs": [],
   "source": [
    "PROJECT_DIR = hdfs.project_path()\n",
    "JUPYTER_DIR = PROJECT_DIR + \"Jupyter/\"\n",
    "HOROVOD_NOTEBOOK = JUPYTER_DIR + \"Step4_Ring_AllReduce_GPU_Training.ipynb\""
   ]
  },
  {
   "cell_type": "markdown",
   "metadata": {},
   "source": [
    "## Launch It"
   ]
  },
  {
   "cell_type": "code",
   "execution_count": 7,
   "metadata": {},
   "outputs": [
    {
     "name": "stdout",
     "output_type": "stream",
     "text": [
      "\n",
      "Starting TensorFlow job, follow your progress on TensorBoard in Jupyter UI! \n",
      "\n",
      "Finished Experiment \n",
      "\n",
      "\n",
      "See /Logs/TensorFlow/application_1536227070932_0167/horovod/run.2 for summary of results, logfiles and TensorBoard log directory"
     ]
    }
   ],
   "source": [
    "experiment.horovod(spark, HOROVOD_NOTEBOOK, name='tinyimagenet resnet estimator', local_logdir = False)"
   ]
  },
  {
   "cell_type": "markdown",
   "metadata": {},
   "source": [
    "## Monitor The Job Through The SparkUI and The Logs"
   ]
  },
  {
   "cell_type": "markdown",
   "metadata": {},
   "source": [
    "![horovod1.png](./../images/horovod1.png)"
   ]
  },
  {
   "cell_type": "code",
   "execution_count": null,
   "metadata": {},
   "outputs": [],
   "source": []
  }
 ],
 "metadata": {
  "kernelspec": {
   "display_name": "PySpark",
   "language": "",
   "name": "pysparkkernel"
  },
  "language_info": {
   "codemirror_mode": {
    "name": "python",
    "version": 2
   },
   "mimetype": "text/x-python",
   "name": "pyspark",
   "pygments_lexer": "python2"
  }
 },
 "nbformat": 4,
 "nbformat_minor": 2
}
