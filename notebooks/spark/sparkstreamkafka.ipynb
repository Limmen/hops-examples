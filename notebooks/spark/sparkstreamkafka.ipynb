{
 "cells": [
  {
   "cell_type": "code",
   "execution_count": 1,
   "metadata": {},
   "outputs": [
    {
     "name": "stdout",
     "output_type": "stream",
     "text": [
      "Starting Spark application\n"
     ]
    },
    {
     "data": {
      "text/html": [
       "<table>\n",
       "<tr><th>ID</th><th>YARN Application ID</th><th>Kind</th><th>State</th><th>Spark UI</th><th>Driver log</th><th>Current session?</th></tr><tr><td>958</td><td>application_1536227070932_0306</td><td>spark</td><td>idle</td><td><a target=\"_blank\" href=\"http://hadoop30:8088/proxy/application_1536227070932_0306/\">Link</a></td><td><a target=\"_blank\" href=\"http://hadoop34:8042/node/containerlogs/container_e59_1536227070932_0306_01_000001/testconda_tkak__kimham00\">Link</a></td><td>✔</td></tr></table>"
      ],
      "text/plain": [
       "<IPython.core.display.HTML object>"
      ]
     },
     "metadata": {},
     "output_type": "display_data"
    },
    {
     "name": "stdout",
     "output_type": "stream",
     "text": [
      "SparkSession available as 'spark'.\n",
      "import org.apache.kafka.clients.consumer.ConsumerRecord\n",
      "import org.apache.kafka.common.serialization.StringDeserializer\n",
      "import org.apache.kafka.common.serialization.StringSerializer\n",
      "import org.apache.spark.streaming.kafka010._\n",
      "import org.apache.spark.streaming.kafka010.LocationStrategies.PreferConsistent\n",
      "import org.apache.spark.streaming.kafka010.ConsumerStrategies.Subscribe\n",
      "import io.hops.util.Hops\n",
      "import org.apache.spark._\n",
      "import org.apache.spark.streaming._\n"
     ]
    }
   ],
   "source": [
    "import org.apache.kafka.clients.consumer.ConsumerRecord\n",
    "import org.apache.kafka.common.serialization.StringDeserializer\n",
    "import org.apache.kafka.common.serialization.StringSerializer\n",
    "import org.apache.spark.streaming.kafka010._\n",
    "import org.apache.spark.streaming.kafka010.LocationStrategies.PreferConsistent\n",
    "import org.apache.spark.streaming.kafka010.ConsumerStrategies.Subscribe\n",
    "import io.hops.util.Hops\n",
    "import org.apache.spark._\n",
    "import org.apache.spark.streaming._"
   ]
  },
  {
   "cell_type": "code",
   "execution_count": 5,
   "metadata": {},
   "outputs": [
    {
     "name": "stdout",
     "output_type": "stream",
     "text": [
      "records: org.apache.spark.sql.DataFrame = [key: binary, value: binary ... 5 more fields]\n"
     ]
    }
   ],
   "source": [
    "val records = spark.readStream.format(\"kafka\").\n",
    "      option(\"kafka.bootstrap.servers\", Hops.getBrokerEndpoints()).\n",
    "      option(\"kafka.security.protocol\",\"SSL\").\n",
    "      option(\"kafka.ssl.truststore.location\", Hops.getTrustStore()).\n",
    "      option(\"kafka.ssl.truststore.password\", Hops.getKeystorePwd()).\n",
    "      option(\"kafka.ssl.keystore.location\",Hops.getKeyStore()).\n",
    "      option(\"kafka.ssl.keystore.password\",Hops.getKeystorePwd()).\n",
    "      option(\"kafka.ssl.key.password\",Hops.getKeystorePwd()).\n",
    "      option(\"subscribe\", \"mytopic\").load();"
   ]
  },
  {
   "cell_type": "code",
   "execution_count": 7,
   "metadata": {},
   "outputs": [
    {
     "name": "stdout",
     "output_type": "stream",
     "text": [
      "messages: org.apache.spark.sql.Dataset[Byte] = [value: tinyint]\n"
     ]
    }
   ],
   "source": [
    "val messages = records.select(\"value\").as[Array[Byte]].flatMap(x => x)"
   ]
  },
  {
   "cell_type": "code",
   "execution_count": null,
   "metadata": {},
   "outputs": [],
   "source": [
    "val query = records.select(\"topic\").writeStream.outputMode(\"append\").option(\"truncate\", \"false\").format(\"text\").option(\"checkpointLocation\", \"/Projects/testconda_tkak/Resources/checkpoint-text3\").option(\"path\", \"/Projects/testconda_tkak/Resources/data-text3.txt\").start();\n",
    "query.awaitTermination();"
   ]
  },
  {
   "cell_type": "code",
   "execution_count": 62,
   "metadata": {},
   "outputs": [
    {
     "name": "stdout",
     "output_type": "stream",
     "text": [
      "import org.apache.spark.sql.streaming.Trigger\n",
      "query: org.apache.spark.sql.streaming.StreamingQuery = org.apache.spark.sql.execution.streaming.StreamingQueryWrapper@506b330e\n"
     ]
    }
   ],
   "source": [
    "import org.apache.spark.sql.streaming.Trigger;\n",
    "val query = messages.writeStream.format(\"text\").\n",
    "      option(\"path\", \"/Projects/\" + Hops.getProjectName() + \"/Resources/data-text.txt\").\n",
    "      option(\"checkpointLocation\", \"/Projects/\" + Hops.getProjectName() + \"/Resources/checkpoint-text\").\n",
    "      start();\n",
    "     "
   ]
  },
  {
   "cell_type": "code",
   "execution_count": null,
   "metadata": {},
   "outputs": [],
   "source": []
  }
 ],
 "metadata": {
  "kernelspec": {
   "display_name": "Spark",
   "language": "",
   "name": "sparkkernel"
  },
  "language_info": {
   "codemirror_mode": "text/x-scala",
   "mimetype": "text/x-scala",
   "name": "scala",
   "pygments_lexer": "scala"
  }
 },
 "nbformat": 4,
 "nbformat_minor": 2
}
